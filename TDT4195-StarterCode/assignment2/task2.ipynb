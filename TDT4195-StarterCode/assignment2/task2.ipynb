{
 "cells": [
  {
   "cell_type": "code",
   "execution_count": 2,
   "metadata": {},
   "outputs": [],
   "source": [
    "import torch\n",
    "import torch.nn as nn\n",
    "import matplotlib.pyplot as plt\n",
    "import tqdm\n",
    "import numpy as np\n",
    "import utils\n",
    "import dataloaders\n",
    "import torchvision\n",
    "from trainer import Trainer\n",
    "torch.random.manual_seed(0)\n",
    "np.random.seed(0)"
   ]
  },
  {
   "cell_type": "markdown",
   "metadata": {},
   "source": [
    "### Dataset"
   ]
  },
  {
   "cell_type": "code",
   "execution_count": 4,
   "metadata": {},
   "outputs": [
    {
     "name": "stdout",
     "output_type": "stream",
     "text": [
      "Downloading http://yann.lecun.com/exdb/mnist/train-images-idx3-ubyte.gz to data/MNIST\\raw\\train-images-idx3-ubyte.gz\n"
     ]
    },
    {
     "data": {
      "application/vnd.jupyter.widget-view+json": {
       "model_id": "b11c69cd0010498ca59b8a6173c8adf7",
       "version_major": 2,
       "version_minor": 0
      },
      "text/plain": [
       "HBox(children=(HTML(value=''), FloatProgress(value=1.0, bar_style='info', layout=Layout(width='20px'), max=1.0…"
      ]
     },
     "metadata": {},
     "output_type": "display_data"
    },
    {
     "name": "stdout",
     "output_type": "stream",
     "text": [
      "Extracting data/MNIST\\raw\\train-images-idx3-ubyte.gz to data/MNIST\\raw\n",
      "Downloading http://yann.lecun.com/exdb/mnist/train-labels-idx1-ubyte.gz to data/MNIST\\raw\\train-labels-idx1-ubyte.gz\n"
     ]
    },
    {
     "data": {
      "application/vnd.jupyter.widget-view+json": {
       "model_id": "3e3347930bf84c21a31932bc98ae9c49",
       "version_major": 2,
       "version_minor": 0
      },
      "text/plain": [
       "HBox(children=(HTML(value=''), FloatProgress(value=1.0, bar_style='info', layout=Layout(width='20px'), max=1.0…"
      ]
     },
     "metadata": {},
     "output_type": "display_data"
    },
    {
     "name": "stdout",
     "output_type": "stream",
     "text": [
      "Extracting data/MNIST\\raw\\train-labels-idx1-ubyte.gz to data/MNIST\\raw\n",
      "Downloading http://yann.lecun.com/exdb/mnist/t10k-images-idx3-ubyte.gz to data/MNIST\\raw\\t10k-images-idx3-ubyte.gz\n"
     ]
    },
    {
     "data": {
      "application/vnd.jupyter.widget-view+json": {
       "model_id": "f23067dfb0234f21831f8aa9c1163862",
       "version_major": 2,
       "version_minor": 0
      },
      "text/plain": [
       "HBox(children=(HTML(value=''), FloatProgress(value=1.0, bar_style='info', layout=Layout(width='20px'), max=1.0…"
      ]
     },
     "metadata": {},
     "output_type": "display_data"
    },
    {
     "name": "stdout",
     "output_type": "stream",
     "text": [
      "Extracting data/MNIST\\raw\\t10k-images-idx3-ubyte.gz to data/MNIST\\raw\n",
      "Downloading http://yann.lecun.com/exdb/mnist/t10k-labels-idx1-ubyte.gz to data/MNIST\\raw\\t10k-labels-idx1-ubyte.gz\n",
      "\n",
      "\n",
      "\n"
     ]
    },
    {
     "data": {
      "application/vnd.jupyter.widget-view+json": {
       "model_id": "f1f657be35974265b976805c01aa035d",
       "version_major": 2,
       "version_minor": 0
      },
      "text/plain": [
       "HBox(children=(HTML(value=''), FloatProgress(value=1.0, bar_style='info', layout=Layout(width='20px'), max=1.0…"
      ]
     },
     "metadata": {},
     "output_type": "display_data"
    },
    {
     "name": "stdout",
     "output_type": "stream",
     "text": [
      "Extracting data/MNIST\\raw\\t10k-labels-idx1-ubyte.gz to data/MNIST\\raw\n",
      "Processing...\n",
      "Done!\n",
      "The tensor containing the images has shape: torch.Size([64, 1, 32, 32]) (batch size, number of color channels, height, width)\n",
      "\tThe maximum value in the image is 1.0, minimum: -1.0\n"
     ]
    },
    {
     "name": "stderr",
     "output_type": "stream",
     "text": [
      "C:\\Users\\tokon\\anaconda3\\envs\\tdt4195\\lib\\site-packages\\torchvision\\datasets\\mnist.py:469: UserWarning: The given NumPy array is not writeable, and PyTorch does not support non-writeable tensors. This means you can write to the underlying (supposedly non-writeable) NumPy array using the tensor. You may want to copy the array to protect its data or make it writeable before converting it to a tensor. This type of warning will be suppressed for the rest of this program. (Triggered internally at  ..\\torch\\csrc\\utils\\tensor_numpy.cpp:141.)\n",
      "  return torch.from_numpy(parsed.astype(m[2], copy=False)).view(*s)\n"
     ]
    }
   ],
   "source": [
    "# Load the dataset and print some stats\n",
    "batch_size = 64\n",
    "\n",
    "image_transform = torchvision.transforms.Compose([\n",
    "    torchvision.transforms.Resize((32, 32)),\n",
    "    torchvision.transforms.ToTensor(),\n",
    "    torchvision.transforms.Normalize([0.5], [0.5])])\n",
    "\n",
    "dataloader_train, dataloader_test = dataloaders.load_dataset(batch_size, image_transform)\n",
    "example_images, _ = next(iter(dataloader_train))\n",
    "print(f\"The tensor containing the images has shape: {example_images.shape} (batch size, number of color channels, height, width)\",\n",
    "      f\"The maximum value in the image is {example_images.max()}, minimum: {example_images.min()}\", sep=\"\\n\\t\")"
   ]
  },
  {
   "cell_type": "code",
   "execution_count": 5,
   "metadata": {},
   "outputs": [],
   "source": [
    "def create_model():\n",
    "    \"\"\"\n",
    "        Initializes the mode. Edit the code below if you would like to change the model.\n",
    "    \"\"\"\n",
    "    model = nn.Sequential(\n",
    "        nn.Conv2d(1, 32, 5, 1, 2),\n",
    "        nn.ReLU(),\n",
    "        nn.MaxPool2d(2, 2),\n",
    "        \n",
    "        nn.Conv2d(32, 64, 3, 1, 1),\n",
    "        nn.ReLU(),\n",
    "        nn.MaxPool2d(2, 2),\n",
    "        \n",
    "        nn.Conv2d(64, 128, 3, 1, 1),\n",
    "        nn.ReLU(),\n",
    "        nn.MaxPool2d(2, 2),\n",
    "        \n",
    "        nn.Flatten(), # Flattens the image from shape (batch_size, C, Height, width) to (batch_size, C*height*width)\n",
    "        nn.Linear(32*32*2, 32*32*1),\n",
    "        nn.ReLU(),\n",
    "        nn.Linear(32*32*1, 10)\n",
    "        \n",
    "        # No need to include softmax, as this is already combined in the loss function\n",
    "    )\n",
    "    # Transfer model to GPU memory if a GPU is available\n",
    "    model = utils.to_cuda(model)\n",
    "    return model\n",
    "\n",
    "\n",
    "model = create_model()"
   ]
  },
  {
   "cell_type": "code",
   "execution_count": 6,
   "metadata": {},
   "outputs": [
    {
     "name": "stdout",
     "output_type": "stream",
     "text": [
      "Output shape: torch.Size([64, 10])\n"
     ]
    }
   ],
   "source": [
    "# Test if the model is able to do a single forward pass\n",
    "example_images = utils.to_cuda(example_images)\n",
    "output = model(example_images)\n",
    "print(\"Output shape:\", output.shape)\n",
    "expected_shape = (batch_size, 10) # 10 since mnist has 10 different classes\n",
    "assert output.shape == expected_shape,    f\"Expected shape: {expected_shape}, but got: {output.shape}\""
   ]
  },
  {
   "cell_type": "markdown",
   "metadata": {},
   "source": [
    "### Hyperparameters & Loss function"
   ]
  },
  {
   "cell_type": "code",
   "execution_count": 7,
   "metadata": {},
   "outputs": [],
   "source": [
    "# Hyperparameters\n",
    "learning_rate = .001\n",
    "num_epochs = 5\n",
    "\n",
    "\n",
    "# Use CrossEntropyLoss for multi-class classification\n",
    "loss_function = torch.nn.CrossEntropyLoss()\n",
    "\n",
    "# Define optimizer (Stochastic Gradient Descent)\n",
    "optimizer = torch.optim.Adam(model.parameters(),\n",
    "                            lr=learning_rate)"
   ]
  },
  {
   "cell_type": "markdown",
   "metadata": {},
   "source": [
    "### Train model"
   ]
  },
  {
   "cell_type": "code",
   "execution_count": 8,
   "metadata": {},
   "outputs": [
    {
     "name": "stderr",
     "output_type": "stream",
     "text": [
      "Training epoch 0: 100%|██████████████████████████████████████████████████████████████| 937/937 [00:47<00:00, 19.85it/s]\n",
      "Training epoch 1: 100%|██████████████████████████████████████████████████████████████| 937/937 [00:49<00:00, 18.97it/s]\n",
      "Training epoch 2: 100%|██████████████████████████████████████████████████████████████| 937/937 [00:50<00:00, 18.73it/s]\n",
      "Training epoch 3: 100%|██████████████████████████████████████████████████████████████| 937/937 [00:49<00:00, 18.89it/s]\n",
      "Training epoch 4: 100%|██████████████████████████████████████████████████████████████| 937/937 [00:48<00:00, 19.17it/s]\n"
     ]
    }
   ],
   "source": [
    "trainer = Trainer(\n",
    "  model=model,\n",
    "  dataloader_train=dataloader_train,\n",
    "  dataloader_test=dataloader_test,\n",
    "  batch_size=batch_size,\n",
    "  loss_function=loss_function,\n",
    "  optimizer=optimizer\n",
    ")\n",
    "train_loss_dict, test_loss_dict = trainer.train(num_epochs)"
   ]
  },
  {
   "cell_type": "code",
   "execution_count": 10,
   "metadata": {},
   "outputs": [
    {
     "data": {
      "image/png": "[encoded data removed]",
      "text/plain": [
       "<Figure size 432x288 with 1 Axes>"
      ]
     },
     "metadata": {
      "needs_background": "light"
     },
     "output_type": "display_data"
    },
    {
     "name": "stdout",
     "output_type": "stream",
     "text": [
      "Final Test loss: 0.0302407526920074. Final Test accuracy: 0.9911\n"
     ]
    }
   ],
   "source": [
    "# We can now plot the training loss with our utility script\n",
    "\n",
    "# Plot loss\n",
    "utils.plot_loss(train_loss_dict, label=\"Train Loss\")\n",
    "utils.plot_loss(test_loss_dict, label=\"Test Loss\")\n",
    "# Limit the y-axis of the plot (The range should not be increased!)\n",
    "plt.ylim([0, .1])\n",
    "plt.legend()\n",
    "plt.xlabel(\"Global Training Step\")\n",
    "plt.ylabel(\"Cross Entropy Loss\")\n",
    "plt.savefig(utils.image_output_dir.joinpath(\"task2b_plot.png\"))\n",
    "plt.show()\n",
    "final_loss, final_acc = utils.compute_loss_and_accuracy(\n",
    "    dataloader_test, model, loss_function)\n",
    "print(f\"Final Test loss: {final_loss}. Final Test accuracy: {final_acc}\")"
   ]
  },
  {
   "cell_type": "code",
   "execution_count": null,
   "metadata": {},
   "outputs": [],
   "source": []
  }
 ],
 "metadata": {
  "kernelspec": {
   "display_name": "Python 3",
   "language": "python",
   "name": "python3"
  },
  "language_info": {
   "codemirror_mode": {
    "name": "ipython",
    "version": 3
   },
   "file_extension": ".py",
   "mimetype": "text/x-python",
   "name": "python",
   "nbconvert_exporter": "python",
   "pygments_lexer": "ipython3",
   "version": "3.8.5"
  }
 },
 "nbformat": 4,
 "nbformat_minor": 4
}
