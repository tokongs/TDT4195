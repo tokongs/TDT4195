{
 "cells": [
  {
   "cell_type": "code",
   "execution_count": null,
   "metadata": {},
   "outputs": [],
   "source": [
    "import skimage\n",
    "import skimage.io\n",
    "import skimage.transform\n",
    "import os\n",
    "import numpy as np\n",
    "import utils\n",
    "import matplotlib.pyplot as plt"
   ]
  },
  {
   "cell_type": "code",
   "execution_count": null,
   "metadata": {},
   "outputs": [],
   "source": [
    "if __name__ == \"__main__\":\n",
    "    # DO NOT CHANGE\n",
    "    impath = os.path.join(\"images\", \"noisy_moon.png\")\n",
    "    im = utils.read_im(impath)\n",
    "\n",
    "    ### START YOUR CODE HERE ### (You can change anything inside this block)\n",
    "    fft_im = np.fft.fft2(im)\n",
    "    visalized_im = np.fft.ifft2(fft_im).real\n",
    "    plt.figure(figsize=(20, 4))\n",
    "    plt.imshow(im, cmap=\"gray\")\n",
    "    im_filtered = im\n",
    "    \n",
    "    \n",
    "\n",
    "    ### END YOUR CODE HERE ###\n",
    "    utils.save_im(\"moon_filtered.png\", utils.normalize(im_filtered))"
   ]
  }
 ],
 "metadata": {
  "kernelspec": {
   "display_name": "Python 3",
   "language": "python",
   "name": "python3"
  },
  "language_info": {
   "codemirror_mode": {
    "name": "ipython",
    "version": 3
   },
   "file_extension": ".py",
   "mimetype": "text/x-python",
   "name": "python",
   "nbconvert_exporter": "python",
   "pygments_lexer": "ipython3",
   "version": "3.8.5"
  }
 },
 "nbformat": 4,
 "nbformat_minor": 4
}
