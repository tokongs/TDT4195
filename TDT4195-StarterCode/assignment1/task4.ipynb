{
 "cells": [
  {
   "cell_type": "code",
   "execution_count": 1,
   "metadata": {},
   "outputs": [],
   "source": [
    "import torch\n",
    "import torch.nn as nn\n",
    "import matplotlib.pyplot as plt\n",
    "import tqdm\n",
    "import numpy as np\n",
    "import utils\n",
    "import dataloaders\n",
    "import torchvision\n",
    "from trainer import Trainer\n",
    "torch.random.manual_seed(0)\n",
    "np.random.seed(0)"
   ]
  },
  {
   "cell_type": "markdown",
   "metadata": {},
   "source": [
    "### Dataset"
   ]
  },
  {
   "cell_type": "code",
   "execution_count": 2,
   "metadata": {},
   "outputs": [
    {
     "name": "stdout",
     "output_type": "stream",
     "text": [
      "The tensor containing the images has shape: torch.Size([64, 1, 28, 28]) (batch size, number of color channels, height, width)\n",
      "\tThe maximum value in the image is 1.0, minimum: 0.0\n"
     ]
    }
   ],
   "source": [
    "# Load the dataset and print some stats\n",
    "batch_size = 64\n",
    "\n",
    "image_transform = torchvision.transforms.Compose([\n",
    "    torchvision.transforms.ToTensor(),\n",
    "])\n",
    "\n",
    "dataloader_train, dataloader_test = dataloaders.load_dataset(batch_size, image_transform)\n",
    "example_images, _ = next(iter(dataloader_train))\n",
    "print(f\"The tensor containing the images has shape: {example_images.shape} (batch size, number of color channels, height, width)\",\n",
    "      f\"The maximum value in the image is {example_images.max()}, minimum: {example_images.min()}\", sep=\"\\n\\t\")"
   ]
  },
  {
   "cell_type": "code",
   "execution_count": 3,
   "metadata": {},
   "outputs": [],
   "source": [
    "def create_model():\n",
    "    \"\"\"\n",
    "        Initializes the mode. Edit the code below if you would like to change the model.\n",
    "    \"\"\"\n",
    "    model = nn.Sequential(\n",
    "        nn.Flatten(), # Flattens the image from shape (batch_size, C, Height, width) to (batch_size, C*height*width)\n",
    "        nn.Linear(28*28*1, 10)\n",
    "        # No need to include softmax, as this is already combined in the loss function\n",
    "    )\n",
    "    # Transfer model to GPU memory if a GPU is available\n",
    "    model = utils.to_cuda(model)\n",
    "    return model\n",
    "\n",
    "\n",
    "model = create_model()"
   ]
  },
  {
   "cell_type": "code",
   "execution_count": 4,
   "metadata": {},
   "outputs": [
    {
     "name": "stdout",
     "output_type": "stream",
     "text": [
      "Output shape: torch.Size([64, 10])\n"
     ]
    }
   ],
   "source": [
    "# Test if the model is able to do a single forward pass\n",
    "example_images = utils.to_cuda(example_images)\n",
    "output = model(example_images)\n",
    "print(\"Output shape:\", output.shape)\n",
    "expected_shape = (batch_size, 10) # 10 since mnist has 10 different classes\n",
    "assert output.shape == expected_shape,    f\"Expected shape: {expected_shape}, but got: {output.shape}\""
   ]
  },
  {
   "cell_type": "markdown",
   "metadata": {},
   "source": [
    "### Hyperparameters & Loss function"
   ]
  },
  {
   "cell_type": "code",
   "execution_count": 5,
   "metadata": {},
   "outputs": [],
   "source": [
    "# Hyperparameters\n",
    "learning_rate = .0192\n",
    "num_epochs = 5\n",
    "\n",
    "\n",
    "# Use CrossEntropyLoss for multi-class classification\n",
    "loss_function = torch.nn.CrossEntropyLoss()\n",
    "\n",
    "# Define optimizer (Stochastic Gradient Descent)\n",
    "optimizer = torch.optim.SGD(model.parameters(),\n",
    "                            lr=learning_rate)"
   ]
  },
  {
   "cell_type": "markdown",
   "metadata": {},
   "source": [
    "### Train model"
   ]
  },
  {
   "cell_type": "code",
   "execution_count": 6,
   "metadata": {},
   "outputs": [
    {
     "name": "stderr",
     "output_type": "stream",
     "text": [
      "Training epoch 0: 100%|██████████| 938/938 [00:12<00:00, 78.06it/s]\n",
      "Training epoch 1: 100%|██████████| 938/938 [00:12<00:00, 75.74it/s]\n",
      "Training epoch 2: 100%|██████████| 938/938 [00:11<00:00, 78.25it/s]\n",
      "Training epoch 3: 100%|██████████| 938/938 [00:12<00:00, 76.33it/s]\n",
      "Training epoch 4: 100%|██████████| 938/938 [00:12<00:00, 75.93it/s]\n"
     ]
    }
   ],
   "source": [
    "trainer = Trainer(\n",
    "  model=model,\n",
    "  dataloader_train=dataloader_train,\n",
    "  dataloader_test=dataloader_test,\n",
    "  batch_size=batch_size,\n",
    "  loss_function=loss_function,\n",
    "  optimizer=optimizer\n",
    ")\n",
    "train_loss_dict, test_loss_dict = trainer.train(num_epochs)"
   ]
  },
  {
   "cell_type": "code",
   "execution_count": 7,
   "metadata": {},
   "outputs": [
    {
     "data": {
      "image/png": "[encoded data removed]",
      "text/plain": [
       "<Figure size 432x288 with 1 Axes>"
      ]
     },
     "metadata": {
      "needs_background": "light"
     },
     "output_type": "display_data"
    },
    {
     "name": "stdout",
     "output_type": "stream",
     "text": [
      "Final Test loss: 0.3365846801145821. Final Test accuracy: 0.9087\n"
     ]
    }
   ],
   "source": [
    "# We can now plot the training loss with our utility script\n",
    "\n",
    "# Plot loss\n",
    "utils.plot_loss(train_loss_dict, label=\"Train Loss\")\n",
    "utils.plot_loss(test_loss_dict, label=\"Test Loss\")\n",
    "# Limit the y-axis of the plot (The range should not be increased!)\n",
    "plt.ylim([0, 1])\n",
    "plt.legend()\n",
    "plt.xlabel(\"Global Training Step\")\n",
    "plt.ylabel(\"Cross Entropy Loss\")\n",
    "plt.savefig(\"image_solutions/task_4a.png\")\n",
    "\n",
    "plt.show()\n",
    "\n",
    "torch.save(model.state_dict(), \"saved_model.torch\")\n",
    "final_loss, final_acc = utils.compute_loss_and_accuracy(\n",
    "    dataloader_test, model, loss_function)\n",
    "print(f\"Final Test loss: {final_loss}. Final Test accuracy: {final_acc}\")"
   ]
  },
  {
   "cell_type": "markdown",
   "metadata": {},
   "source": [
    "## Plotting example"
   ]
  },
  {
   "cell_type": "code",
   "execution_count": null,
   "metadata": {},
   "outputs": [
    {
     "name": "stderr",
     "output_type": "stream",
     "text": [
      "Training epoch 0: 100%|██████████| 938/938 [00:12<00:00, 77.74it/s]\n",
      "Training epoch 1: 100%|██████████| 938/938 [00:12<00:00, 77.43it/s]\n",
      "Training epoch 2: 100%|██████████| 938/938 [00:12<00:00, 75.72it/s]\n",
      "Training epoch 3: 100%|██████████| 938/938 [00:12<00:00, 75.06it/s]\n",
      "Training epoch 4:  58%|█████▊    | 546/938 [00:07<00:05, 70.69it/s]"
     ]
    }
   ],
   "source": [
    "# You can delete the remaining code of this notebook, as this is just to illustrate one method to solve the assignment tasks.\n",
    "\n",
    "\n",
    "# This example code is here to illustrate how you can plot two different models to compare them.\n",
    "# Lets change a small part of our model: the number of epochs trained (NOTE, use 5 epochs for your experiments in the assignment.)\n",
    "\n",
    "# We reset the manual seed to 0, such that the model parameters are initialized with the same random number generator.\n",
    "torch.random.manual_seed(0)\n",
    "np.random.seed(0)\n",
    "\n",
    "\n",
    "dataloader_train, dataloader_test = dataloaders.load_dataset(batch_size, image_transform)\n",
    "model = create_model()\n",
    "\n",
    "learning_rate = .0192\n",
    "num_epochs = 6\n",
    "\n",
    "# Redefine optimizer, as we have a new model.\n",
    "optimizer = torch.optim.SGD(model.parameters(),\n",
    "                            lr=learning_rate)\n",
    "trainer = Trainer(\n",
    "  model=model,\n",
    "  dataloader_train=dataloader_train,\n",
    "  dataloader_test=dataloader_test,\n",
    "  batch_size=batch_size,\n",
    "  loss_function=loss_function,\n",
    "  optimizer=optimizer\n",
    ")\n",
    "train_loss_dict_6epochs, test_loss_dict_6epochs = trainer.train(num_epochs)\n",
    "num_epochs = 5"
   ]
  },
  {
   "cell_type": "code",
   "execution_count": null,
   "metadata": {},
   "outputs": [],
   "source": [
    "# We can now plot the two models against eachother\n",
    "\n",
    "# Plot loss\n",
    "utils.plot_loss(train_loss_dict_6epochs, label=\"Train Loss - Model trained with 6 epochs\")\n",
    "utils.plot_loss(test_loss_dict_6epochs, label=\"Test Loss - Model trained with 6 epochs\")\n",
    "utils.plot_loss(train_loss_dict, label=\"Train Loss - Original model\")\n",
    "utils.plot_loss(test_loss_dict, label=\"Test Loss - Original model\")\n",
    "# Limit the y-axis of the plot (The range should not be increased!)\n",
    "plt.ylim([0, 1])\n",
    "plt.legend()\n",
    "plt.xlabel(\"Global Training Step\")\n",
    "plt.ylabel(\"Cross Entropy Loss\")\n",
    "plt.savefig(\"image_solutions/task_4a.png\")\n",
    "\n",
    "plt.show()\n",
    "\n",
    "torch.save(model.state_dict(), \"saved_model.torch\")\n",
    "final_loss, final_acc = utils.compute_loss_and_accuracy(\n",
    "    dataloader_test, model, loss_function)\n",
    "print(f\"Final Test loss: {final_loss}. Final Test accuracy: {final_acc}\")"
   ]
  },
  {
   "cell_type": "markdown",
   "metadata": {},
   "source": [
    "### Task A"
   ]
  },
  {
   "cell_type": "code",
   "execution_count": null,
   "metadata": {},
   "outputs": [],
   "source": [
    "torch.random.manual_seed(0)\n",
    "np.random.seed(0)\n",
    "\n",
    "image_transform = torchvision.transforms.Compose([\n",
    "    torchvision.transforms.ToTensor(),\n",
    "    torchvision.transforms.Normalize(0.5, 0.5)\n",
    "])\n",
    "\n",
    "dataloader_train, dataloader_test = dataloaders.load_dataset(batch_size, image_transform)\n",
    "model = create_model()\n",
    "\n",
    "# Redefine optimizer, as we have a new model.\n",
    "optimizer = torch.optim.SGD(model.parameters(),\n",
    "                            lr=learning_rate)\n",
    "trainer = Trainer(\n",
    "  model=model,\n",
    "  dataloader_train=dataloader_train,\n",
    "  dataloader_test=dataloader_test,\n",
    "  batch_size=batch_size,\n",
    "  loss_function=loss_function,\n",
    "  optimizer=optimizer\n",
    ")\n",
    "\n",
    "train_loss_dict_a, test_loss_dict_a = trainer.train(num_epochs)"
   ]
  },
  {
   "cell_type": "code",
   "execution_count": null,
   "metadata": {},
   "outputs": [],
   "source": [
    "# We can now plot the two models against eachother\n",
    "\n",
    "# Plot loss\n",
    "utils.plot_loss(train_loss_dict_a, label=\"Train Loss - Model trained with image tranform normalize\")\n",
    "utils.plot_loss(test_loss_dict_a, label=\"Test Loss - Model trained with image tranform normaliz\")\n",
    "utils.plot_loss(train_loss_dict, label=\"Train Loss - Original model\")\n",
    "utils.plot_loss(test_loss_dict, label=\"Test Loss - Original model\")\n",
    "# Limit the y-axis of the plot (The range should not be increased!)\n",
    "plt.ylim([0, 1])\n",
    "plt.legend()\n",
    "plt.xlabel(\"Global Training Step\")\n",
    "plt.ylabel(\"Cross Entropy Loss\")\n",
    "plt.savefig(\"image_solutions/task_4a.png\")\n",
    "\n",
    "plt.show()\n",
    "\n",
    "torch.save(model.state_dict(), \"saved_model.torch\")\n",
    "final_loss, final_acc = utils.compute_loss_and_accuracy(\n",
    "    dataloader_test, model, loss_function)\n",
    "print(f\"Final Test loss: {final_loss}. Final Test accuracy: {final_acc}\")"
   ]
  },
  {
   "cell_type": "markdown",
   "metadata": {},
   "source": [
    "### Task B"
   ]
  },
  {
   "cell_type": "code",
   "execution_count": 35,
   "metadata": {},
   "outputs": [
    {
     "name": "stdout",
     "output_type": "stream",
     "text": [
      "Warning: The dynamic range of the image is [-0.036586370319128036, 0.029876627027988434] normalizing to [-1, 1]\n",
      "Warning: The dynamic range of the image is [-0.013214003294706345, 0.057090967893600464] normalizing to [-1, 1]\n",
      "Warning: The dynamic range of the image is [-0.046635616570711136, 0.022191738709807396] normalizing to [-1, 1]\n",
      "Warning: The dynamic range of the image is [-0.04546589031815529, 0.020284978672862053] normalizing to [-1, 1]\n",
      "Warning: The dynamic range of the image is [-0.019888324663043022, 0.05082803964614868] normalizing to [-1, 1]\n",
      "Warning: The dynamic range of the image is [-0.0440388023853302, 0.024326981976628304] normalizing to [-1, 1]\n",
      "Warning: The dynamic range of the image is [-0.033832862973213196, 0.03500070422887802] normalizing to [-1, 1]\n",
      "Warning: The dynamic range of the image is [-0.02800776995718479, 0.04015228897333145] normalizing to [-1, 1]\n",
      "Warning: The dynamic range of the image is [-0.04606851562857628, 0.023174550384283066] normalizing to [-1, 1]\n",
      "Warning: The dynamic range of the image is [-0.027727702632546425, 0.038860153406858444] normalizing to [-1, 1]\n"
     ]
    },
    {
     "data": {
      "image/png": "[encoded data removed]",
      "text/plain": [
       "<Figure size 432x288 with 10 Axes>"
      ]
     },
     "metadata": {
      "needs_background": "light"
     },
     "output_type": "display_data"
    }
   ],
   "source": [
    "from utils import save_im\n",
    "import pathlib\n",
    "output_dir = pathlib.Path(\"image_solutions/weights\")\n",
    "weight = list(model_a.children())[1].weight.cpu().data\n",
    "\n",
    "for z in range(0, len(weight - 1)):\n",
    "    image = np.array([[weight[z][x*y] for x  in range(0, 28)] for y in range(0, 28)])\n",
    "    plt.subplot(1, len(weight), z + 1)\n",
    "    plt.imshow(image, cmap=\"gray\")\n",
    "    save_im(output_dir.joinpath(f\"{z}.jpg\"), image, cmap=\"gray\")\n"
   ]
  },
  {
   "cell_type": "markdown",
   "metadata": {},
   "source": [
    "### Task C"
   ]
  },
  {
   "cell_type": "code",
   "execution_count": 36,
   "metadata": {},
   "outputs": [
    {
     "name": "stderr",
     "output_type": "stream",
     "text": [
      "Training epoch 0: 100%|██████████| 938/938 [00:22<00:00, 41.56it/s]\n",
      "Training epoch 1: 100%|██████████| 938/938 [00:22<00:00, 41.89it/s]\n",
      "Training epoch 2: 100%|██████████| 938/938 [00:22<00:00, 40.82it/s]\n",
      "Training epoch 3: 100%|██████████| 938/938 [00:21<00:00, 42.73it/s]\n",
      "Training epoch 4: 100%|██████████| 938/938 [00:22<00:00, 42.64it/s]\n"
     ]
    }
   ],
   "source": [
    "torch.random.manual_seed(0)\n",
    "np.random.seed(0)\n",
    "\n",
    "model_c = create_model()\n",
    "\n",
    "lr = 1.0\n",
    "\n",
    "# Redefine optimizer, as we have a new model.\n",
    "optimizer = torch.optim.SGD(model.parameters(),\n",
    "                            lr=learning_rate)\n",
    "trainer = Trainer(\n",
    "  model=model_c,\n",
    "  dataloader_train=dataloader_train,\n",
    "  dataloader_test=dataloader_test,\n",
    "  batch_size=batch_size,\n",
    "  loss_function=loss_function,\n",
    "  optimizer=optimizer\n",
    ")\n",
    "\n",
    "train_loss_dict_c, test_loss_dict_c = trainer.train(num_epochs)"
   ]
  },
  {
   "cell_type": "code",
   "execution_count": 37,
   "metadata": {},
   "outputs": [
    {
     "data": {
      "image/png": "[encoded data removed]",
      "text/plain": [
       "<Figure size 432x288 with 1 Axes>"
      ]
     },
     "metadata": {
      "needs_background": "light"
     },
     "output_type": "display_data"
    },
    {
     "name": "stdout",
     "output_type": "stream",
     "text": [
      "Final Test loss: 0.29817477078621935. Final Test accuracy: 0.9142\n"
     ]
    }
   ],
   "source": [
    "# We can now plot the two models against eachother\n",
    "\n",
    "# Plot loss\n",
    "utils.plot_loss(train_loss_dict_c, label=\"Train Loss - Model trained with lr = 1\")\n",
    "utils.plot_loss(test_loss_dict_c, label=\"Test Loss - Model trained with lr = 1\")\n",
    "utils.plot_loss(train_loss_dict, label=\"Train Loss - Original model\")\n",
    "utils.plot_loss(test_loss_dict, label=\"Test Loss - Original model\")\n",
    "# Limit the y-axis of the plot (The range should not be increased!)\n",
    "plt.ylim([0, 1])\n",
    "plt.legend()\n",
    "plt.xlabel(\"Global Training Step\")\n",
    "plt.ylabel(\"Cross Entropy Loss\")\n",
    "plt.savefig(\"image_solutions/task_4c.png\")\n",
    "\n",
    "plt.show()\n",
    "\n",
    "torch.save(model_c.state_dict(), \"saved_model_c.torch\")\n",
    "final_loss, final_acc = utils.compute_loss_and_accuracy(\n",
    "    dataloader_test, model_c, loss_function)\n",
    "print(f\"Final Test loss: {final_loss}. Final Test accuracy: {final_acc}\")"
   ]
  },
  {
   "cell_type": "markdown",
   "metadata": {},
   "source": [
    "### Task D"
   ]
  },
  {
   "cell_type": "code",
   "execution_count": null,
   "metadata": {},
   "outputs": [],
   "source": []
  }
 ],
 "metadata": {
  "kernelspec": {
   "display_name": "Python 3",
   "language": "python",
   "name": "python3"
  },
  "language_info": {
   "codemirror_mode": {
    "name": "ipython",
    "version": 3
   },
   "file_extension": ".py",
   "mimetype": "text/x-python",
   "name": "python",
   "nbconvert_exporter": "python",
   "pygments_lexer": "ipython3",
   "version": "3.6.12"
  }
 },
 "nbformat": 4,
 "nbformat_minor": 4
}
